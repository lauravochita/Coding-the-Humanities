{
  "cells": [
    {
      "cell_type": "markdown",
      "metadata": {
        "id": "_ff2UYOrk_bd"
      },
      "source": [
        "# Individual Exam CtH | Analysing \"Brand Twitter\"\n",
        "\n",
        "### Author: Laura Vochita"
      ]
    },
    {
      "cell_type": "markdown",
      "metadata": {
        "id": "rlBTVZLP_9cX"
      },
      "source": [
        "Be sure to check the assignment description on Canvas once more.\n",
        "\n",
        "Handing in the notebook should be done in a `zip` file, together with any files you create. We request you to name the exam submission as \"exam_name_studentname.zip\" with your corresponding name. The data is presented in the `data` folder. Also, include the files containing the data when handing in your exam, as this helps us to check your code when re-running it. To check if we can run your notebook from top to bottom without receiving errors, try to clear all the output of the cells and rerun everything. This can be done automatically by clicking on `Runtime --> Restart and run all`.\n",
        "\n",
        "Good luck!"
      ]
    },
    {
      "cell_type": "markdown",
      "metadata": {
        "id": "U0z7yBxIPWJc"
      },
      "source": [
        "# Introduction\n",
        "\n",
        "For this assignment we will investigate the phenomenon of \"*Brand Twitter*\". While corporate communication is traditionally rather bland, in recent years a trend has emerged of brands communicating on social media in a far less formal way. Social media teams of certain brands have started use memes, edgy humour and an informal and personal style of writing, sometimes also engaging with other brand accounts in a way that is similar to how many Twitter users tweet and interact with each other. This phenomenon of corporate personhood has been called *Brand Twitter*.\n",
        "\n",
        "In 2019, Vulture published a history of the phenomenon, just in case you find it interesting: https://www.vulture.com/2019/06/brand-twitter-jokes-history.html\n",
        "\n",
        "For this assignment we will consider a group of brand accounts that are often considered part of *Brand Twitter*:\n",
        "\n",
        "    * @Wendys - Wendy's\n",
        "    * @PrimeVideo - Amazon Prime Video\n",
        "    * @MerriamWebster - Merriam Webster\n",
        "    * @BurgerKing - Burger King\n",
        "    * @Netflix - Netflix US\n",
        "    * @McDonalds - McDonald's\n",
        "    * @DennysDiner - Denny's Diner\n",
        "\n",
        "We thought it would be interesting to analyse the tweets of these brand accounts to learn more about this novel style of corporate communication and the ways corporations might be perceived as relatable people on social media."
      ]
    },
    {
      "cell_type": "markdown",
      "metadata": {
        "id": "nI8_S13FGYWN"
      },
      "source": [
        "# Data\n",
        "\n",
        "The data can be found within the file `brand_tweets.csv`. This file contains twitter data on tweets (every row is one tweet) by these brands.\n",
        "\n",
        "FYI: This data was acquired from Twitter using their API if you're interested, following the method from the optional Notebook 7.\n",
        "\n",
        "*Please note: this dataset might contain content which could be considered as offensive. It is real unfiltered data directly from Twitter.*"
      ]
    },
    {
      "cell_type": "markdown",
      "metadata": {
        "id": "9vwI8QmUKJYk"
      },
      "source": [
        "# Tasks\n",
        "\n",
        "We would like to look through some recent tweets of *Brand Twitter*, and be able to understand certain characteristics of their tweets. As these Twitter accounts represent major brands, one particularly interesting aspect of this dataset is the difference between regular tweets and tweets that are replies to other tweets, which could be replies to customers or other brands.\n",
        "\n",
        "Make your code and results as pretty as possible, and feel free to use tabs and enumeration when printing text and formatting for the visualisations. \n",
        "\n",
        "This assignment is about getting familiar with Pandas' methods — we suggest going through the lecture and seminar notebooks on Pandas again. You can of course use any course material in this assignment!\n",
        "\n",
        "You are not limited to the structure of the cells below with ` # Your code here` only. Organise your code the way you think is most readible and appropriate.\n",
        "\n",
        "If you do not fully manage to solve a question in the requested way, feel free to solve it in a different way to be able to proceed with later questions - you'll probably still get some points."
      ]
    },
    {
      "cell_type": "markdown",
      "metadata": {
        "id": "pS58nZzcKA44"
      },
      "source": [
        "### Question 1: Pre-processing\n",
        "* Add a column with a normalised version of the 'text' column. Use an appropriate tokenizer for this type of data in your normalization function. As the 'text' column contains strings, things will be easier if your normalized text column will also contain strings.\n",
        "\n",
        "Continue to work with this normalized column in the next tasks. You're of course free to add more columns if you think you need them. "
      ]
    },
    {
      "cell_type": "markdown",
      "source": [
        "For this question I am using mainly what we learnt in the Week 6 notebook, as we have done this specific type of exercise in class. "
      ],
      "metadata": {
        "id": "tZRmv0z_D_Zv"
      }
    },
    {
      "cell_type": "code",
      "source": [
        "#imports\n",
        "\n",
        "import re\n",
        "import os\n",
        "import pandas as pd\n",
        "import numpy as np\n",
        "import seaborn as sns\n",
        "import matplotlib.pyplot as plt\n",
        "from collections import defaultdict\n",
        "import nltk\n",
        "import string\n",
        "nltk.download('punkt')"
      ],
      "metadata": {
        "colab": {
          "base_uri": "https://localhost:8080/"
        },
        "id": "_AGpAEzb6rkJ",
        "outputId": "f755884d-f2d6-4d11-86df-5ceca4b7a628"
      },
      "execution_count": 64,
      "outputs": [
        {
          "output_type": "stream",
          "name": "stderr",
          "text": [
            "[nltk_data] Downloading package punkt to /root/nltk_data...\n",
            "[nltk_data]   Package punkt is already up-to-date!\n"
          ]
        },
        {
          "output_type": "execute_result",
          "data": {
            "text/plain": [
              "True"
            ]
          },
          "metadata": {},
          "execution_count": 64
        }
      ]
    },
    {
      "cell_type": "code",
      "execution_count": 65,
      "metadata": {
        "id": "DVwFEgSAPN5P",
        "colab": {
          "base_uri": "https://localhost:8080/",
          "height": 789
        },
        "outputId": "d326da19-394a-4d24-a815-f94f126e5bfe"
      },
      "outputs": [
        {
          "output_type": "execute_result",
          "data": {
            "text/plain": [
              "          username   user_id             tweet_id                 created_at  \\\n",
              "0           Wendys  59553554  1638267643135250440  2023-03-21 19:53:38+00:00   \n",
              "1           Wendys  59553554  1638267205459619841  2023-03-21 19:51:53+00:00   \n",
              "2           Wendys  59553554  1638188566864863233  2023-03-21 14:39:25+00:00   \n",
              "3           Wendys  59553554  1637955779432001538  2023-03-20 23:14:24+00:00   \n",
              "4           Wendys  59553554  1637929081814540289  2023-03-20 21:28:19+00:00   \n",
              "...            ...       ...                  ...                        ...   \n",
              "19910  DennysDiner  23112346  1108760630742396933  2019-03-21 16:01:48+00:00   \n",
              "19911  DennysDiner  23112346  1108753012867153920  2019-03-21 15:31:32+00:00   \n",
              "19912  DennysDiner  23112346  1108750684118282240  2019-03-21 15:22:17+00:00   \n",
              "19913  DennysDiner  23112346  1108747374590087168  2019-03-21 15:09:08+00:00   \n",
              "19914  DennysDiner  23112346  1108747202552389632  2019-03-21 15:08:27+00:00   \n",
              "\n",
              "                                                    text  in_reply_to_user  \\\n",
              "0      @pure_fox3 This isn’t the service we expect. P...      9.940359e+17   \n",
              "1      @violetisaghost We're disappointed to hear thi...      1.593276e+18   \n",
              "2                  @Ciabatta_Boi https://t.co/XtTwZVeNcM      1.464782e+18   \n",
              "3      @Plentlyofcolin We're sorry to read this. Can ...      4.710757e+09   \n",
              "4      @Quasimfk We're disappointed to hear this. Ple...      1.518750e+18   \n",
              "...                                                  ...               ...   \n",
              "19910                    @CoryPidhaichuk happy birthday!      1.049437e+09   \n",
              "19911                   @CALLme_MARS come get pancakes 🥞      3.647626e+07   \n",
              "19912  @badgalratii sounds like you should come to De...      4.547579e+09   \n",
              "19913                              @emmapeebs who is she      4.475723e+08   \n",
              "19914                    @GangDenny you should be a poet      1.100437e+18   \n",
              "\n",
              "       retweet_count  like_count  reply_count  quote_count  \\\n",
              "0                  0           1            0            0   \n",
              "1                  0           0            0            0   \n",
              "2                  0           2            2            0   \n",
              "3                  0           2            0            0   \n",
              "4                  0           1            0            0   \n",
              "...              ...         ...          ...          ...   \n",
              "19910              0           5            0            0   \n",
              "19911              0           1            1            0   \n",
              "19912              0           1            1            0   \n",
              "19913              0           5            1            0   \n",
              "19914              0           4            1            0   \n",
              "\n",
              "                                              clean_text  \n",
              "0      @pure_fox3 This isn ’ t the service we expect ...  \n",
              "1      @violetisaghost We're disappointed to hear thi...  \n",
              "2                                          @Ciabatta_Boi  \n",
              "3      @Plentlyofcolin We're sorry to read this Can y...  \n",
              "4      @Quasimfk We're disappointed to hear this Plea...  \n",
              "...                                                  ...  \n",
              "19910                     @CoryPidhaichuk happy birthday  \n",
              "19911                   @CALLme_MARS come get pancakes 🥞  \n",
              "19912  @badgalratii sounds like you should come to De...  \n",
              "19913                              @emmapeebs who is she  \n",
              "19914                    @GangDenny you should be a poet  \n",
              "\n",
              "[19915 rows x 11 columns]"
            ],
            "text/html": [
              "\n",
              "  <div id=\"df-5326467e-66ed-422e-ba21-d6c55b46a32c\">\n",
              "    <div class=\"colab-df-container\">\n",
              "      <div>\n",
              "<style scoped>\n",
              "    .dataframe tbody tr th:only-of-type {\n",
              "        vertical-align: middle;\n",
              "    }\n",
              "\n",
              "    .dataframe tbody tr th {\n",
              "        vertical-align: top;\n",
              "    }\n",
              "\n",
              "    .dataframe thead th {\n",
              "        text-align: right;\n",
              "    }\n",
              "</style>\n",
              "<table border=\"1\" class=\"dataframe\">\n",
              "  <thead>\n",
              "    <tr style=\"text-align: right;\">\n",
              "      <th></th>\n",
              "      <th>username</th>\n",
              "      <th>user_id</th>\n",
              "      <th>tweet_id</th>\n",
              "      <th>created_at</th>\n",
              "      <th>text</th>\n",
              "      <th>in_reply_to_user</th>\n",
              "      <th>retweet_count</th>\n",
              "      <th>like_count</th>\n",
              "      <th>reply_count</th>\n",
              "      <th>quote_count</th>\n",
              "      <th>clean_text</th>\n",
              "    </tr>\n",
              "  </thead>\n",
              "  <tbody>\n",
              "    <tr>\n",
              "      <th>0</th>\n",
              "      <td>Wendys</td>\n",
              "      <td>59553554</td>\n",
              "      <td>1638267643135250440</td>\n",
              "      <td>2023-03-21 19:53:38+00:00</td>\n",
              "      <td>@pure_fox3 This isn’t the service we expect. P...</td>\n",
              "      <td>9.940359e+17</td>\n",
              "      <td>0</td>\n",
              "      <td>1</td>\n",
              "      <td>0</td>\n",
              "      <td>0</td>\n",
              "      <td>@pure_fox3 This isn ’ t the service we expect ...</td>\n",
              "    </tr>\n",
              "    <tr>\n",
              "      <th>1</th>\n",
              "      <td>Wendys</td>\n",
              "      <td>59553554</td>\n",
              "      <td>1638267205459619841</td>\n",
              "      <td>2023-03-21 19:51:53+00:00</td>\n",
              "      <td>@violetisaghost We're disappointed to hear thi...</td>\n",
              "      <td>1.593276e+18</td>\n",
              "      <td>0</td>\n",
              "      <td>0</td>\n",
              "      <td>0</td>\n",
              "      <td>0</td>\n",
              "      <td>@violetisaghost We're disappointed to hear thi...</td>\n",
              "    </tr>\n",
              "    <tr>\n",
              "      <th>2</th>\n",
              "      <td>Wendys</td>\n",
              "      <td>59553554</td>\n",
              "      <td>1638188566864863233</td>\n",
              "      <td>2023-03-21 14:39:25+00:00</td>\n",
              "      <td>@Ciabatta_Boi https://t.co/XtTwZVeNcM</td>\n",
              "      <td>1.464782e+18</td>\n",
              "      <td>0</td>\n",
              "      <td>2</td>\n",
              "      <td>2</td>\n",
              "      <td>0</td>\n",
              "      <td>@Ciabatta_Boi</td>\n",
              "    </tr>\n",
              "    <tr>\n",
              "      <th>3</th>\n",
              "      <td>Wendys</td>\n",
              "      <td>59553554</td>\n",
              "      <td>1637955779432001538</td>\n",
              "      <td>2023-03-20 23:14:24+00:00</td>\n",
              "      <td>@Plentlyofcolin We're sorry to read this. Can ...</td>\n",
              "      <td>4.710757e+09</td>\n",
              "      <td>0</td>\n",
              "      <td>2</td>\n",
              "      <td>0</td>\n",
              "      <td>0</td>\n",
              "      <td>@Plentlyofcolin We're sorry to read this Can y...</td>\n",
              "    </tr>\n",
              "    <tr>\n",
              "      <th>4</th>\n",
              "      <td>Wendys</td>\n",
              "      <td>59553554</td>\n",
              "      <td>1637929081814540289</td>\n",
              "      <td>2023-03-20 21:28:19+00:00</td>\n",
              "      <td>@Quasimfk We're disappointed to hear this. Ple...</td>\n",
              "      <td>1.518750e+18</td>\n",
              "      <td>0</td>\n",
              "      <td>1</td>\n",
              "      <td>0</td>\n",
              "      <td>0</td>\n",
              "      <td>@Quasimfk We're disappointed to hear this Plea...</td>\n",
              "    </tr>\n",
              "    <tr>\n",
              "      <th>...</th>\n",
              "      <td>...</td>\n",
              "      <td>...</td>\n",
              "      <td>...</td>\n",
              "      <td>...</td>\n",
              "      <td>...</td>\n",
              "      <td>...</td>\n",
              "      <td>...</td>\n",
              "      <td>...</td>\n",
              "      <td>...</td>\n",
              "      <td>...</td>\n",
              "      <td>...</td>\n",
              "    </tr>\n",
              "    <tr>\n",
              "      <th>19910</th>\n",
              "      <td>DennysDiner</td>\n",
              "      <td>23112346</td>\n",
              "      <td>1108760630742396933</td>\n",
              "      <td>2019-03-21 16:01:48+00:00</td>\n",
              "      <td>@CoryPidhaichuk happy birthday!</td>\n",
              "      <td>1.049437e+09</td>\n",
              "      <td>0</td>\n",
              "      <td>5</td>\n",
              "      <td>0</td>\n",
              "      <td>0</td>\n",
              "      <td>@CoryPidhaichuk happy birthday</td>\n",
              "    </tr>\n",
              "    <tr>\n",
              "      <th>19911</th>\n",
              "      <td>DennysDiner</td>\n",
              "      <td>23112346</td>\n",
              "      <td>1108753012867153920</td>\n",
              "      <td>2019-03-21 15:31:32+00:00</td>\n",
              "      <td>@CALLme_MARS come get pancakes 🥞</td>\n",
              "      <td>3.647626e+07</td>\n",
              "      <td>0</td>\n",
              "      <td>1</td>\n",
              "      <td>1</td>\n",
              "      <td>0</td>\n",
              "      <td>@CALLme_MARS come get pancakes 🥞</td>\n",
              "    </tr>\n",
              "    <tr>\n",
              "      <th>19912</th>\n",
              "      <td>DennysDiner</td>\n",
              "      <td>23112346</td>\n",
              "      <td>1108750684118282240</td>\n",
              "      <td>2019-03-21 15:22:17+00:00</td>\n",
              "      <td>@badgalratii sounds like you should come to De...</td>\n",
              "      <td>4.547579e+09</td>\n",
              "      <td>0</td>\n",
              "      <td>1</td>\n",
              "      <td>1</td>\n",
              "      <td>0</td>\n",
              "      <td>@badgalratii sounds like you should come to De...</td>\n",
              "    </tr>\n",
              "    <tr>\n",
              "      <th>19913</th>\n",
              "      <td>DennysDiner</td>\n",
              "      <td>23112346</td>\n",
              "      <td>1108747374590087168</td>\n",
              "      <td>2019-03-21 15:09:08+00:00</td>\n",
              "      <td>@emmapeebs who is she</td>\n",
              "      <td>4.475723e+08</td>\n",
              "      <td>0</td>\n",
              "      <td>5</td>\n",
              "      <td>1</td>\n",
              "      <td>0</td>\n",
              "      <td>@emmapeebs who is she</td>\n",
              "    </tr>\n",
              "    <tr>\n",
              "      <th>19914</th>\n",
              "      <td>DennysDiner</td>\n",
              "      <td>23112346</td>\n",
              "      <td>1108747202552389632</td>\n",
              "      <td>2019-03-21 15:08:27+00:00</td>\n",
              "      <td>@GangDenny you should be a poet</td>\n",
              "      <td>1.100437e+18</td>\n",
              "      <td>0</td>\n",
              "      <td>4</td>\n",
              "      <td>1</td>\n",
              "      <td>0</td>\n",
              "      <td>@GangDenny you should be a poet</td>\n",
              "    </tr>\n",
              "  </tbody>\n",
              "</table>\n",
              "<p>19915 rows × 11 columns</p>\n",
              "</div>\n",
              "      <button class=\"colab-df-convert\" onclick=\"convertToInteractive('df-5326467e-66ed-422e-ba21-d6c55b46a32c')\"\n",
              "              title=\"Convert this dataframe to an interactive table.\"\n",
              "              style=\"display:none;\">\n",
              "        \n",
              "  <svg xmlns=\"http://www.w3.org/2000/svg\" height=\"24px\"viewBox=\"0 0 24 24\"\n",
              "       width=\"24px\">\n",
              "    <path d=\"M0 0h24v24H0V0z\" fill=\"none\"/>\n",
              "    <path d=\"M18.56 5.44l.94 2.06.94-2.06 2.06-.94-2.06-.94-.94-2.06-.94 2.06-2.06.94zm-11 1L8.5 8.5l.94-2.06 2.06-.94-2.06-.94L8.5 2.5l-.94 2.06-2.06.94zm10 10l.94 2.06.94-2.06 2.06-.94-2.06-.94-.94-2.06-.94 2.06-2.06.94z\"/><path d=\"M17.41 7.96l-1.37-1.37c-.4-.4-.92-.59-1.43-.59-.52 0-1.04.2-1.43.59L10.3 9.45l-7.72 7.72c-.78.78-.78 2.05 0 2.83L4 21.41c.39.39.9.59 1.41.59.51 0 1.02-.2 1.41-.59l7.78-7.78 2.81-2.81c.8-.78.8-2.07 0-2.86zM5.41 20L4 18.59l7.72-7.72 1.47 1.35L5.41 20z\"/>\n",
              "  </svg>\n",
              "      </button>\n",
              "      \n",
              "  <style>\n",
              "    .colab-df-container {\n",
              "      display:flex;\n",
              "      flex-wrap:wrap;\n",
              "      gap: 12px;\n",
              "    }\n",
              "\n",
              "    .colab-df-convert {\n",
              "      background-color: #E8F0FE;\n",
              "      border: none;\n",
              "      border-radius: 50%;\n",
              "      cursor: pointer;\n",
              "      display: none;\n",
              "      fill: #1967D2;\n",
              "      height: 32px;\n",
              "      padding: 0 0 0 0;\n",
              "      width: 32px;\n",
              "    }\n",
              "\n",
              "    .colab-df-convert:hover {\n",
              "      background-color: #E2EBFA;\n",
              "      box-shadow: 0px 1px 2px rgba(60, 64, 67, 0.3), 0px 1px 3px 1px rgba(60, 64, 67, 0.15);\n",
              "      fill: #174EA6;\n",
              "    }\n",
              "\n",
              "    [theme=dark] .colab-df-convert {\n",
              "      background-color: #3B4455;\n",
              "      fill: #D2E3FC;\n",
              "    }\n",
              "\n",
              "    [theme=dark] .colab-df-convert:hover {\n",
              "      background-color: #434B5C;\n",
              "      box-shadow: 0px 1px 3px 1px rgba(0, 0, 0, 0.15);\n",
              "      filter: drop-shadow(0px 1px 2px rgba(0, 0, 0, 0.3));\n",
              "      fill: #FFFFFF;\n",
              "    }\n",
              "  </style>\n",
              "\n",
              "      <script>\n",
              "        const buttonEl =\n",
              "          document.querySelector('#df-5326467e-66ed-422e-ba21-d6c55b46a32c button.colab-df-convert');\n",
              "        buttonEl.style.display =\n",
              "          google.colab.kernel.accessAllowed ? 'block' : 'none';\n",
              "\n",
              "        async function convertToInteractive(key) {\n",
              "          const element = document.querySelector('#df-5326467e-66ed-422e-ba21-d6c55b46a32c');\n",
              "          const dataTable =\n",
              "            await google.colab.kernel.invokeFunction('convertToInteractive',\n",
              "                                                     [key], {});\n",
              "          if (!dataTable) return;\n",
              "\n",
              "          const docLinkHtml = 'Like what you see? Visit the ' +\n",
              "            '<a target=\"_blank\" href=https://colab.research.google.com/notebooks/data_table.ipynb>data table notebook</a>'\n",
              "            + ' to learn more about interactive tables.';\n",
              "          element.innerHTML = '';\n",
              "          dataTable['output_type'] = 'display_data';\n",
              "          await google.colab.output.renderOutput(dataTable, element);\n",
              "          const docLink = document.createElement('div');\n",
              "          docLink.innerHTML = docLinkHtml;\n",
              "          element.appendChild(docLink);\n",
              "        }\n",
              "      </script>\n",
              "    </div>\n",
              "  </div>\n",
              "  "
            ]
          },
          "metadata": {},
          "execution_count": 65
        }
      ],
      "source": [
        "#with Pandas import the dataset and create a dataframe\n",
        "file_path = '/content/brand_tweets.csv'\n",
        "df_brandtweets = pd.read_csv(file_path, encoding=\"utf-8\") #open and read file\n",
        "\n",
        "#import the Tweet tokenizer \n",
        "from nltk.tokenize import TweetTokenizer, word_tokenize #tokenizer for Twitter\n",
        "\n",
        "#tokenize the text\n",
        "tokenizer = TweetTokenizer(preserve_case=True, reduce_len=False, strip_handles=False)\n",
        "\n",
        "#pre-process the text (as seen in notebook 6)\n",
        "def filter_tweet(tokens): #define the function\n",
        "    \"\"\"\n",
        "    Normalize a tweet's text by removing punctuation tokens and URls.\n",
        "    \n",
        "    Args:\n",
        "        tokens (list): List of tokens from a tokenizer\n",
        "        \n",
        "    Returns:\n",
        "        list: List of non-punctuation and URL tokens\n",
        "    \"\"\"\n",
        "    normalized = [] #create an empty list for the normalized text \n",
        "    \n",
        "    for token in tokens: #for loop which iterates over each element in the 'tokens' list\n",
        "        if token in string.punctuation: #if conditional which verifies is a current character is a punctuation sign (checks if it is in the 'string.punctuation' list)\n",
        "            continue #if it is, it moves onto the next character\n",
        "    \n",
        "        elif token.startswith(('http', 'www')): #used to filter out websites \n",
        "            continue\n",
        "        else:\n",
        "            normalized.append(token) #in the case in which none of the above conditions are met it adds the item to the 'normalized' list\n",
        "  \n",
        "    return normalized #the 'normalized' list is returned in the function\n",
        "\n",
        "def tokenize_tweet(tweet, tokenizer=tokenizer): #define a function with 2 arguments: 'tweet' - a string which is a tweet; 'tokenizer' - a tokenizer object from a NLTK\n",
        "    \n",
        "    # This gives a list of tokens\n",
        "    tokens = tokenizer.tokenize(tweet) #tokenizes the input string \n",
        "    filtered_tokens = filter_tweet(tokens) #using the above function for only keeping useful tokens in the analysis\n",
        "    \n",
        "    # This returns it back to a string\n",
        "    normalized_tweet = \" \".join(filtered_tokens) #join method for concatenation of the tokens\n",
        "    \n",
        "    return normalized_tweet #normalized string is returned \n",
        "\n",
        "df_brandtweets[\"clean_text\"] = df_brandtweets[\"text\"].apply(tokenize_tweet) #apply the tokenize_tweet function we made to a specific column in the dataframe \n",
        "df_brandtweets \n",
        "\n",
        "\n"
      ]
    },
    {
      "cell_type": "markdown",
      "metadata": {
        "id": "c05kDUHdOCkV"
      },
      "source": [
        "### Question 2: Description / statistics\n",
        "\n",
        "Provide information on: \n",
        "\n",
        "1. Number of tweets (per brand and in total)\n",
        "2. How many of those tweets are replies (per brand and in total)\n",
        "3. Most liked tweet (per brand and in total)\n",
        "4. Most frequent hashtags (per brand and in total)\n",
        "\n",
        "You can present the answers in this notebook. If you prefer, you may also write your results to a separate text file (optional)."
      ]
    },
    {
      "cell_type": "markdown",
      "source": [
        "For this exercise, I am once again using the methods learnt in class. The important observation here is that statiscs per brand are actually statistics per 'username' in our data frame. For us, the tweets are found under 'text', but for the purpose of analysis I continue to work with the normalized version of the tweets, found under 'clean_text' in my data frame. To figure out how many of them are replies, I can check how many start with '@' , as this is the format of Twitter replies. For the like count, the data frame already has a column with this name so I can easily identify the most liked tweet. For hashtags, I also searched stackoverflow and decided that the easiest way to do it is with regular expressions (for which I used the cheatsheet). \n"
      ],
      "metadata": {
        "id": "Lki8dU5dIvvM"
      }
    },
    {
      "cell_type": "code",
      "execution_count": 66,
      "metadata": {
        "id": "_xdsHrGqOBP5",
        "colab": {
          "base_uri": "https://localhost:8080/"
        },
        "outputId": "12629fa3-e928-4d88-ee6e-803d1edf6daa"
      },
      "outputs": [
        {
          "output_type": "stream",
          "name": "stdout",
          "text": [
            "Number of tweets per brand:\n",
            "username\n",
            "BurgerKing        3248\n",
            "DennysDiner       3210\n",
            "McDonalds         3248\n",
            "MerriamWebster    3169\n",
            "Netflix           1828\n",
            "PrimeVideo        1966\n",
            "Wendys            3246\n",
            "Name: clean_text, dtype: int64\n",
            "\n",
            "Total number of tweets: 19915\n",
            "\n",
            "Number of replies per brand:\n",
            "username\n",
            "BurgerKing        3184\n",
            "DennysDiner       2185\n",
            "McDonalds         3245\n",
            "MerriamWebster     789\n",
            "Netflix            297\n",
            "PrimeVideo         135\n",
            "Wendys            3171\n",
            "Name: reply, dtype: int64\n",
            "\n",
            "Total number of reply tweets: 13006\n",
            "\n",
            "Most liked tweet per brand:\n",
            "\n",
            "BurgerKing: bk boss: did you write those tweets i asked for?\n",
            "\n",
            "my brain: whopper whopper whopper whopper\n",
            "\n",
            "DennysDiner: find cute baby from viral video and bring him to Denny’s … ✅ https://t.co/f6BvdfnzaB\n",
            "\n",
            "McDonalds: i read all the comments 🫶 https://t.co/6mLhl44v1L\n",
            "\n",
            "MerriamWebster: ONE OF THE DEFINITIONS OF 'LITERALLY' IS \"IN EFFECT, VIRTUALLY—USED IN AN EXAGGERATED WAY TO EMPHASIZE A STATEMENT OR DESCRIPTION.\" SOME PEOPLE GET MAD IF YOU USE IT THIS WAY BECAUSE IT ISN'T THE WORD'S PRIMARY MEANING, BUT THIS SENSE OF 'LITERALLY' HAS BEEN USED FOR 250 YEARS SO https://t.co/teDuHmxtrk\n",
            "\n",
            "Netflix: Wednesday has been officially renewed for Season 2! https://t.co/ekqlxP9ueW\n",
            "\n",
            "PrimeVideo: Like if you can hear this image. https://t.co/gusrJ77Abr\n",
            "\n",
            "Wendys: .@elonmusk let me tweet from space pls\n",
            "\n",
            "Most liked tweet in general:\n",
            "Wednesday has been officially renewed for Season 2! https://t.co/ekqlxP9ueW\n",
            "Most used hashtag per brand:\n",
            "username\n",
            "BurgerKing           (BurgerKing, BurgerKingYes)\n",
            "DennysDiner              (DennysDiner, DennysFC)\n",
            "MerriamWebster    (MerriamWebster, WordOfTheDay)\n",
            "Netflix                         (Netflix, TUDUM)\n",
            "PrimeVideo             (PrimeVideo, MyPoliceman)\n",
            "Wendys              (Wendys, WendysHotandCrispy)\n",
            "Name: hashtags, dtype: object\n",
            "\n",
            "Most used hashtag overall: ('MerriamWebster', 'WordOfTheDay')\n",
            "\n"
          ]
        }
      ],
      "source": [
        "\n",
        "#using the group method I am grouping the tweets by brand and then counting the number of tweets\n",
        "tweets_per_brand = df_brandtweets.groupby('username').count()['clean_text']\n",
        "#counting the number of total tweets\n",
        "total_tweets = df_brandtweets['clean_text'].count()\n",
        "\n",
        "#create a new colomn which shows if each tweet is a reply or not (using lambda as discussed in class)\n",
        "df_brandtweets['reply'] = df_brandtweets['clean_text'].apply(lambda x: x.startswith('@'))\n",
        "#group the dataframe by brand; with sum add up the number of tweets that are replies\n",
        "replies_per_brand = df_brandtweets.groupby('username').sum()['reply']\n",
        "#count the total number of replies (also with sum)\n",
        "total_reply_tweets = df_brandtweets['reply'].sum()\n",
        "\n",
        "#group by brand first, then in the colomn corresponding to the number of likes use 'idmax' to identify the max (tweet with the most likes)\n",
        "most_liked_per_brand = df_brandtweets.loc[df_brandtweets.groupby('username')['like_count'].idxmax()] \n",
        "#the most liked tweet in general has the highest like count in the data frame\n",
        "most_liked_tweet = df_brandtweets.loc[df_brandtweets['like_count'].idxmax()]\n",
        "\n",
        "#extract hashtags from clean_text column using regular expressions\n",
        "df_brandtweets['hashtags'] = df_brandtweets['clean_text'].apply(lambda x: re.findall(r'#(\\w+)', x))\n",
        "#group by brand and count the frequency of each hashtag using 'value_counts'\n",
        "hashtags_per_brand = df_brandtweets.explode('hashtags').groupby('username')['hashtags'].value_counts() #explode method for converting the hashtag column (lists) into a series with separate values for counting\n",
        "#find the most used hashtag per brand with grouping\n",
        "most_used_hashtag_per_brand = hashtags_per_brand.groupby('username').idxmax()\n",
        "#find the overall most used hashtag\n",
        "most_used_hashtag = hashtags_per_brand.idxmax()\n",
        "\n",
        "\n",
        "print(f\"Number of tweets per brand:\\n{tweets_per_brand}\\n\")\n",
        "print(f\"Total number of tweets: {total_tweets}\\n\")\n",
        "\n",
        "print(f\"Number of replies per brand:\\n{replies_per_brand}\\n\")\n",
        "print(f\"Total number of reply tweets: {total_reply_tweets}\\n\")\n",
        "\n",
        "# print the tweets for the most_liked\n",
        "print(\"Most liked tweet per brand:\\n\")\n",
        "#for loop to iterate over the rows in the data frame\n",
        "for index, row in most_liked_per_brand.iterrows():\n",
        "    print(f\"{row['username']}: {row['text']}\\n\")\n",
        "print(\"Most liked tweet in general:\")\n",
        "print(most_liked_tweet['text'])\n",
        "\n",
        "print(f\"Most used hashtag per brand:\\n{most_used_hashtag_per_brand}\\n\")\n",
        "print(f\"Most used hashtag overall: {most_used_hashtag}\\n\")\n"
      ]
    },
    {
      "cell_type": "markdown",
      "metadata": {
        "tags": [],
        "id": "8MpgxNnB5KfZ"
      },
      "source": [
        "### Question 3: Analysis - Corporate personhood\n",
        "\n",
        "To observe to what extent the brands encourage corporate personhood, it would be interesting to see what pronouns the brands use to refer to themselves: \"we\" or \"I\". Let us define a \"First Person Pronoun Ratio\" - the total number of times that the word \"I\" is used by a brand / the total number of times the words \"I\" or \"we\" are used by a brand. This should give us a value between 0 and 1, and a higher value indicates that the brand used the word \"I\" relatively more often compared to the word \"we\". If we multiply this value by 100, it becomes a percentage.\n",
        "\n",
        "1. For all of the 7 brands, compute their First Person Pronoun Ratio (or percentage) as defined here.\n",
        "2. Choose the brand with the highest First Person Pronoun Ratio. For this brand, compute the First Person Pronoun Ratio separately for tweets that are replies and tweets that are not replies.\n",
        "\n",
        "Briefly interpret the result (as a text block)."
      ]
    },
    {
      "cell_type": "markdown",
      "source": [
        "1. I first calculate how many times the word \"I\" is used in the normalized version of the tweets and then the number of times \"we\" is used. I am storing the information for each brand and report the results as a dictionary, where the name of the brand is the key and the ratio is the value. For looping I used this method found on stackoverflow https://stackoverflow.com/questions/60811104/pandas-series-unique-method-showing-values-looking-the-same. "
      ],
      "metadata": {
        "id": "mpmByPwXBl2M"
      }
    },
    {
      "cell_type": "code",
      "execution_count": 67,
      "metadata": {
        "colab": {
          "base_uri": "https://localhost:8080/"
        },
        "id": "lPrJw9VG5Kfa",
        "outputId": "784fe40c-22e0-48e4-d563-1ddffd6d9b79"
      },
      "outputs": [
        {
          "output_type": "stream",
          "name": "stdout",
          "text": [
            "Wendys: 0.2967818831942789\n",
            "PrimeVideo: 0.7411764705882353\n",
            "MerriamWebster: 0.16853932584269662\n",
            "BurgerKing: 0.0022935779816513763\n",
            "Netflix: 2.090909090909091\n",
            "McDonalds: 0.022965879265091863\n",
            "DennysDiner: 0.22874493927125505\n"
          ]
        }
      ],
      "source": [
        "# create an empty dictionary \n",
        "pronoun_ratios = {}\n",
        "\n",
        "#loop through each brand\n",
        "for brand in df_brandtweets['username'].unique(): #using unique.() method instead of looping through each row and then checking if the next row is a different brand or not for efficiency\n",
        "\n",
        " #create a new data frame made up of only the rows under the column 'username' which match the current brand so I can count the pronoun usage for each brand\n",
        " brand_tweets = df_brandtweets[df_brandtweets['username'] == brand]\n",
        " #set the initial pronount count to 0\n",
        " i_count = 0\n",
        " we_count = 0\n",
        " \n",
        " #loop through each tweet for the current brand (using the clean_text column)\n",
        " for tweet in brand_tweets['clean_text']:\n",
        "        i_count += tweet.lower().count(' i ') #counting the 'i' usage; opted for lowercasing to be able to count no matter how the pronoun was written\n",
        "        we_count += tweet.lower().count(' we ') #same for 'we'\n",
        " #calculate the first person pronoun ratio for each brand \n",
        " pronoun_ratio = i_count / we_count\n",
        "\n",
        " #for each brand, add the pronoun ratio to the dictionary\n",
        " pronoun_ratios[brand] = pronoun_ratio\n",
        "\n",
        "for brand, ratio in pronoun_ratios.items():\n",
        "    print(f\"{brand}: {ratio}\")\n",
        "\n"
      ]
    },
    {
      "cell_type": "markdown",
      "source": [
        "2. Now using the ratios calculated above, I first figure out which is the brand with the highest ratio based on the output: Netflix. For Netflix I am first separating the tweets that are replies from those that aren't. I have already done this in the previous exercise for the entire data frame. By using .startswirth() it returns Boolean values for when it starts with '@' in my case and when it doesn't. I use that symbol for the logical operator \"not\" here when working with Boolean values because the first time when I used \"not\" the code gave me an eror similar to this one for \"or\": https://stackoverflow.com/questions/36921951/truth-value-of-a-series-is-ambiguous-use-a-empty-a-bool-a-item-a-any-o . Because of this, I searched what the symbol for \"not\" is in Python and used it instead, similarly to their fix and it worked. "
      ],
      "metadata": {
        "id": "0I8C-YBEJWKp"
      }
    },
    {
      "cell_type": "code",
      "source": [
        "\n",
        "#under the column 'usernames' only pick the rows where the username is netflix\n",
        "brand_tweets = df_brandtweets[df_brandtweets['username'] == 'Netflix']\n",
        "\n",
        "#separate the replies and non-replies into two data frames\n",
        "replies = brand_tweets[brand_tweets['reply']] #for when the Boolean value is \"True\"\n",
        "non_replies = brand_tweets[~brand_tweets['reply']] #for when the Boolean value is \"False\"\n",
        "\n",
        "#counting for tweets that are replies\n",
        "i_replies = 0\n",
        "we_replies = 0\n",
        "for tweet in replies['clean_text']: #loop iterates over the tweets in the clean_text column\n",
        "    i_replies += tweet.lower().count(' i ') #using the same method as above for counting\n",
        "    we_replies += tweet.lower().count(' we ')\n",
        "\n",
        "#counting for tweets that aren't replies    \n",
        "i_non_replies = 0\n",
        "we_non_replies = 0\n",
        "for tweet in non_replies['clean_text']:\n",
        "    i_non_replies += tweet.lower().count(' i ')\n",
        "    we_non_replies += tweet.lower().count(' we ')\n",
        "\n",
        "#calculate the first person pronoun ratios\n",
        "pronoun_ratio_replies = i_replies / we_replies\n",
        "pronoun_ratio_non_replies = i_non_replies / we_non_replies\n",
        "\n",
        "# print out the results\n",
        "\n",
        "print(\"First person pronoun ratio for Netflix tweets that are replies is {:.2f}\".format(pronoun_ratio_replies))\n",
        "print(\"First person pronoun ratio for Netflix tweets that are not replies is {:.2f}\".format(pronoun_ratio_non_replies))\n"
      ],
      "metadata": {
        "colab": {
          "base_uri": "https://localhost:8080/"
        },
        "id": "nT9Al-sCJQLT",
        "outputId": "8bde363b-364b-444a-f3f0-a1762c8c801e"
      },
      "execution_count": 68,
      "outputs": [
        {
          "output_type": "stream",
          "name": "stdout",
          "text": [
            "First person pronoun ratio for Netflix tweets that are replies is 4.50\n",
            "First person pronoun ratio for Netflix tweets that are not replies is 1.66\n"
          ]
        }
      ]
    },
    {
      "cell_type": "markdown",
      "source": [
        "Based on this statistic, I can say that Netflix as a brand engages differently when replying to other tweets. My assumption is that most of Netflix's replies are replies to its customers, so they use \"I\" to give off a more personal or close relation. Probably they use more \"we\" in tweets they post on their wall, as they are announcements, and in this case they want to refer to themselves as a company on the whole. "
      ],
      "metadata": {
        "id": "FiOo4Zh5RZDB"
      }
    },
    {
      "cell_type": "markdown",
      "metadata": {
        "id": "yy4BDoPAOcp9"
      },
      "source": [
        "### Question 4: Analysis - Brand interaction\n",
        "\n",
        "Among the tweets that are replies, do the *Brand Twitter* brands reply to each other? (in a tweet this is done by writing @username at the beginning of the tweet)\n",
        "\n",
        "1. Print three tweets from the dataframe in which a brand mentions one of the other brands.\n",
        "2. For all of the 7 brands, find out how often they mention each of the other brands in replies. Present the result as a DataFrame.\n",
        " \n",
        "Briefly interpret the result (as a text block)."
      ]
    },
    {
      "cell_type": "markdown",
      "source": [
        "I am doing two separate answers for each sub-question. For automatisation, I decided to create 2 functions. The function in 4.1. will print 3 relevant tweets. To find the mentions I am using regular expressions again. I am working with the normalized version of the tweets text when looking for the brand mentions, but I want to print the non normalized tweet so that it is readable."
      ],
      "metadata": {
        "id": "_NQC00DC27px"
      }
    },
    {
      "cell_type": "code",
      "source": [
        "def relevant_tweets(df: pd.DataFrame, number_tweets: int = 3) -> list[str]:\n",
        "    \"\"\"\n",
        "    Finds the tweets in which a brand mentions another brand in the data frame.\n",
        "\n",
        "    Args:\n",
        "        df : The data frame \n",
        "        num_tweets (int): The number of tweets to return set to 3. \n",
        "\n",
        "    Returns:\n",
        "        list[str]: A list of the tweets (as strings).\n",
        "    \"\"\"\n",
        "    tweets_mentions = [] #initiate an empty list to store the relevant tweets\n",
        "    brands = df['username'].unique() #create a list whoch stores all the unique brand names\n",
        "    count = 0 #initiate a count to 0 to make sure I only print 3 relevant tweets\n",
        "    #for loop to iterate over each row in the data frame\n",
        "    for index, row in df.iterrows(): \n",
        "       brand = row['username'] #store the brand name extracted from the row; under the column 'username'\n",
        "       tweet_normalized = row['clean_text'] #store the normalized text of the tweet extracted from each row; under the column 'clean_text'\n",
        "       tweet_regular = row['text'] #store the non-normalized text of the tweet extracted from each row; under the column 'text'\n",
        "       mentions = re.findall(r'@(\\w+)', tweet_normalized) #store the extracted mentions from the normalized tweet\n",
        "\n",
        "       #for loop to go through each mention\n",
        "       for mention in mentions: \n",
        "         #if clause to check if the mention found is of a brand and if that brand is different than the current one\n",
        "         if mention in brands and mention != brand: \n",
        "           #if clause to check if we have enough twwets in the list and to stop looping (search for new tweets)\n",
        "           if count < number_tweets:\n",
        "            tweets_mentions.append(tweet_regular) #add the non-normalized text of the tweet to the list which stores the relevant tweets\n",
        "            count += 1  #keep count of how many tweets we have in the list\n",
        "           else:\n",
        "            break #break out of the loop when there are 3 relevant tweets in the list\n",
        "    return tweets_mentions \n",
        "\n",
        "tweets_mentions = relevant_tweets(df_brandtweets, number_tweets=3) #call the function and store the return in a variable \n",
        "for tweet in tweets_mentions: #loop through each tweet in tweet_mentions\n",
        "    print(tweet) #print it\n"
      ],
      "metadata": {
        "colab": {
          "base_uri": "https://localhost:8080/"
        },
        "id": "ewewVO51LywQ",
        "outputId": "91b1943e-099a-4d2c-99dc-f9b251bc7d8d"
      },
      "execution_count": 69,
      "outputs": [
        {
          "output_type": "stream",
          "name": "stdout",
          "text": [
            "@McDonalds @23XIRacing @DAYTONA @NASCAR @ToyotaRacing @BubbaWallace https://t.co/5cDuOoqDhh\n",
            "@RealCryptoFire @McDonalds Maybe next time…don’t get them?\n",
            "@TabRob22 @Oreo @SpiritHalloween @duolingo @SlimJim @AuntieAnnes @SEGA @SwedishFish @BurgerKing @tacobell @McDonalds @wingstop @BushsBeans Heart with \"who cares\" written in it and buy a Baconator. Go.\n"
          ]
        }
      ]
    },
    {
      "cell_type": "markdown",
      "source": [
        "For the second part, I am building on my first function. I am repurposing the method used here to extract the mentions, but in this function I adapt it to keep count of how often this happens in the entire data frame and to also present the results as a data frame, as requested. The first function looks for mention of other brands in all tweet. This function is changed so that it specifically looks for brand mentions in tweets that are replies. Because of this I am using a nested dictionary. My dictionary has one key as one of the brands and then, inside of it there is another dictionary that has the name of the other brands as keys and as values an integer (initially 0) of how many times it appeared in the mention of the original brand (as key).  "
      ],
      "metadata": {
        "id": "5kgMtJ32EXS8"
      }
    },
    {
      "cell_type": "code",
      "source": [
        "\n",
        "def brand_mentions(df: pd.DataFrame) -> pd.DataFrame:\n",
        "    \"\"\"\n",
        "    Counts the number of times each brand mentions another brand in their replies in the data frame.\n",
        "\n",
        "    Args:\n",
        "        df : The data frame \n",
        "\n",
        "    Returns:\n",
        "        pd.DataFrame: A data frame of the results\n",
        "    \"\"\"\n",
        "    brands = df['username'].unique() #create a list of all the unique brand names\n",
        "    \n",
        "    #initiate a dictionary to store the number of mentions for each brand\n",
        "    brand_mentions = {}\n",
        "\n",
        "    #for loop to go over each brand in the brands list\n",
        "    for brand in brands:\n",
        "        brand_mentions[brand] = {} #creates a nested dictionary within brand_mentions (where each brand is a key)\n",
        "        for other_brand in brands: #for loop to go again over the brands\n",
        "            if other_brand != brand: #each brand that is not the current brand\n",
        "                brand_mentions[brand][other_brand] = 0 #key is the brand and the associated value is 0\n",
        "    \n",
        "    #iterate over each row in the data frame\n",
        "    for index, row in df.iterrows(): \n",
        "        #same method as above\n",
        "        brand = row['username'] \n",
        "        tweet_normalized = row['clean_text'] \n",
        "        is_reply = row['reply'] #a variable which stores the boolean value (if the tweet is a reply or not)\n",
        "        mentioned_brands = re.findall(r'@(\\w+)', tweet_normalized) #find the mentions and store them in a list\n",
        "\n",
        "      \n",
        "        #if condition to see if the tweet is a reply and has a mention in it\n",
        "        if is_reply and len(mentioned_brands) > 0:\n",
        "            #iterate over each mentioned brand\n",
        "            for mentioned_brand in mentioned_brands:\n",
        "                #if the mentioned brand is in the list of brands and is not the same as the current brand\n",
        "                if mentioned_brand in brands and mentioned_brand != brand:\n",
        "                    brand_mentions[brand][mentioned_brand] += 1 #increase the value (number of times they have beent mentioned together)\n",
        "\n",
        "    #convert the dictionary to a data frame\n",
        "    df_brand_mentions = pd.DataFrame.from_dict(brand_mentions)\n",
        "    return df_brand_mentions\n",
        "\n",
        "#call the function\n",
        "df_brand_mentions = brand_mentions(df_brandtweets)\n",
        "#print the data frame\n",
        "print(df_brand_mentions)\n"
      ],
      "metadata": {
        "colab": {
          "base_uri": "https://localhost:8080/"
        },
        "id": "mxwVbn8DM77j",
        "outputId": "eaa464ee-de26-4d4e-a85b-c6e8e4d76069"
      },
      "execution_count": 70,
      "outputs": [
        {
          "output_type": "stream",
          "name": "stdout",
          "text": [
            "                Wendys  PrimeVideo  MerriamWebster  BurgerKing  Netflix  \\\n",
            "PrimeVideo         0.0         NaN             1.0         0.0      0.0   \n",
            "MerriamWebster     0.0         0.0             NaN         0.0      0.0   \n",
            "BurgerKing         9.0         0.0             0.0         NaN      0.0   \n",
            "Netflix            0.0         0.0             0.0         0.0      NaN   \n",
            "McDonalds         19.0         0.0             0.0         1.0      0.0   \n",
            "DennysDiner        1.0         0.0             0.0         0.0      0.0   \n",
            "Wendys             NaN         0.0             0.0         1.0      0.0   \n",
            "\n",
            "                McDonalds  DennysDiner  \n",
            "PrimeVideo            0.0          0.0  \n",
            "MerriamWebster        0.0          1.0  \n",
            "BurgerKing            0.0          1.0  \n",
            "Netflix               0.0          0.0  \n",
            "McDonalds             NaN          0.0  \n",
            "DennysDiner           0.0          NaN  \n",
            "Wendys                0.0          0.0  \n"
          ]
        }
      ]
    },
    {
      "cell_type": "markdown",
      "source": [
        "**Interpretation**: What really stood out to me is that McDonald's mentioned Wendy's in their replies 19 times, but Wendy's never mentioned McDonald's. This weird because I suppose McDonald's would mention Wendy's in reply to Wendy's, so I have three possible assumptions for this. Either the dataset is constructed of tweets that aren't from a thread (they are just random and not connected), or something went wrong in my code, or McDonald's typically replies to Wendy's tweets but they don't engage back. Another observation is that brands which mention each other have overlapping target audiences (at least to a certain extent) this is illustrated in McDonald's and Wendy's, BurgerKing and Wendy's, Denny's Diner and Wendy's (all food chain restaurants) but also PrimeVideo and MerriamWebster (streaming platform and dictionary). "
      ],
      "metadata": {
        "id": "HUncFhm-l2RT"
      }
    },
    {
      "cell_type": "markdown",
      "metadata": {
        "id": "wRYM_Nr2Osxw"
      },
      "source": [
        "### Question 5: Visualization\n",
        "\n",
        "1. Plot the number of tweets in the whole dataset per week. \n",
        "    * Interpret the graph. Can you explain the overall pattern and/or some of the fluctuations that are visible? Feel free to also make reference to the numbers you computed for Question 2 in your explanation.\n",
        "    * (If needed, restrict the dataframe to an active twitter timeframe)\n",
        "\n",
        "2. Choose one of the seven brands and plot its (Twitter) popularity over time (choose the time unit and range of your choice) by:\n",
        "    * Number of retweets\n",
        "    * Number of likes\n",
        "  \n",
        "  You can either try to plot these two metrics (retweets/likes) in the same figure, or create multiple figures.\n",
        "  \n"
      ]
    },
    {
      "cell_type": "markdown",
      "source": [
        "1. For this plot, I firslty plotted the netire time frame but the graph wasn't very insightful, as the weeks every year were hard to read. Therefore, I decided to plot the number of tweets per week only for tweets posted in 2022. I first tried with 2023 because it was the most recent, but the data frame only included the first 12 weeks so I thought it is not very insightful to do it like that either.As we did in Week 6, I converted the created_at column to date-time and set it as the index. I then grouped the tweets by week. I opted for a bar chart for easier read of the plot. "
      ],
      "metadata": {
        "id": "4LkAcFrgaFPK"
      }
    },
    {
      "cell_type": "code",
      "execution_count": 71,
      "metadata": {
        "id": "wdQOJkcVOb7b",
        "colab": {
          "base_uri": "https://localhost:8080/",
          "height": 628
        },
        "outputId": "b087b358-df65-433c-9eff-7acb4827b1b0"
      },
      "outputs": [
        {
          "output_type": "stream",
          "name": "stderr",
          "text": [
            "<ipython-input-71-152451941b23>:8: FutureWarning: Series.dt.weekofyear and Series.dt.week have been deprecated. Please use Series.dt.isocalendar().week instead.\n",
            "  df_tweets_by_week = df_2022.groupby(df_2022['created_at'].dt.week)['clean_text'].count()\n"
          ]
        },
        {
          "output_type": "display_data",
          "data": {
            "text/plain": [
              "<Figure size 1000x600 with 1 Axes>"
            ],
            "image/png": "[encoded data removed]"
          },
          "metadata": {}
        }
      ],
      "source": [
        "#convert the created_at column to datetime\n",
        "df_brandtweets[\"created_at\"] = pd.to_datetime(df_brandtweets[\"created_at\"])\n",
        "\n",
        "#only include the tweets created in the year 2022\n",
        "df_2022 = df_brandtweets[df_brandtweets[\"created_at\"].dt.year == 2022]\n",
        "\n",
        "#group the tweets by week and use .count() to count how many were posted in each week\n",
        "df_tweets_by_week = df_2022.groupby(df_2022['created_at'].dt.week)['clean_text'].count()\n",
        "\n",
        "#create plot\n",
        "ax = df_tweets_by_week.plot(kind='bar', figsize=(10, 6), color='pink')\n",
        "\n",
        "#formatting the plot \n",
        "plt.title('Tweets per week in 2022', fontsize=16)\n",
        "plt.xlabel('Week (number)', fontsize=12)\n",
        "plt.ylabel('Number of Tweets', fontsize=12)\n",
        "\n",
        "plt.show()\n",
        "\n",
        "\n"
      ]
    },
    {
      "cell_type": "markdown",
      "source": [
        "From the bar chart, we can see that the week with by far the largest number of tweets is Week 16. This is the calender week 18th of April to the 24th of April. As a general pattern, I can see that the brands weren't so active in the first few weeks of 2022, until a boom in week 16. After this week, they are a bit more consistent with their posting on Twitter with week 21 (23rd of May- 29th of May) and week 32 (8th of August - 14th of August) being the only ones with a significantly smaller number of tweets. I can also see an increasing trend towards the end of the year as weeks 40 to 52 (9th of October - 1st of January 2023) are consistently active. "
      ],
      "metadata": {
        "id": "0CbgpY_NqjNk"
      }
    },
    {
      "cell_type": "markdown",
      "source": [
        "2. For this plot I chose to focus on Netflix since we already returned some statistics about it. I set the time frame to the year 2022 and plotted by week once again. I scaled the like adn retweet counts logarithmically because regular scaling didn't work for such large numbers. "
      ],
      "metadata": {
        "id": "kJs2k06ztUGE"
      }
    },
    {
      "cell_type": "code",
      "source": [
        "#convert to datetime\n",
        "df_brandtweets['created_at'] = pd.to_datetime(df_brandtweets['created_at'])\n",
        "\n",
        "#only include tweets created by Netflix in the year 2022\n",
        "df_netflix = df_brandtweets[(df_brandtweets['username'] == 'Netflix') & (df_brandtweets['created_at'].dt.year == 2022)]\n",
        "\n",
        "#group the tweets by week and sum the retweet and like counts for each week\n",
        "df_netflix_weekly = df_netflix.groupby(df_netflix['created_at'].dt.strftime('%U'))['retweet_count', 'like_count'].sum()\n",
        "\n",
        "\n",
        "#create plot with two lines for retweet and like counts\n",
        "plt.plot(df_netflix_weekly.index, df_netflix_weekly['retweet_count'], label='Retweets', color = 'pink')\n",
        "plt.plot(df_netflix_weekly.index, df_netflix_weekly['like_count'], label='Likes', color = 'skyblue')\n",
        "\n",
        "#formatting the plot\n",
        "plt.xlabel('Week (number)', fontsize=12)\n",
        "plt.ylabel('Count', fontsize=12)\n",
        "plt.title('Popularity of Netflix in 2022', fontsize=16)\n",
        "plt.legend()\n",
        "plt.yscale('log')\n",
        "\n",
        "plt.show()\n",
        "\n",
        "\n",
        "\n",
        "\n",
        "\n",
        "\n",
        "\n"
      ],
      "metadata": {
        "colab": {
          "base_uri": "https://localhost:8080/",
          "height": 532
        },
        "id": "OlwEAJN6tU-S",
        "outputId": "944ca416-cf00-4726-efaa-038635012148"
      },
      "execution_count": 86,
      "outputs": [
        {
          "output_type": "stream",
          "name": "stderr",
          "text": [
            "<ipython-input-86-c9b2237f8832>:8: FutureWarning: Indexing with multiple keys (implicitly converted to a tuple of keys) will be deprecated, use a list instead.\n",
            "  df_netflix_weekly = df_netflix.groupby(df_netflix['created_at'].dt.strftime('%U'))['retweet_count', 'like_count'].sum()\n"
          ]
        },
        {
          "output_type": "display_data",
          "data": {
            "text/plain": [
              "<Figure size 640x480 with 1 Axes>"
            ],
            "image/png": "[encoded data removed]"
          },
          "metadata": {}
        }
      ]
    }
  ],
  "metadata": {
    "colab": {
      "provenance": []
    },
    "kernelspec": {
      "display_name": "Python 3 (ipykernel)",
      "language": "python",
      "name": "python3"
    },
    "language_info": {
      "codemirror_mode": {
        "name": "ipython",
        "version": 3
      },
      "file_extension": ".py",
      "mimetype": "text/x-python",
      "name": "python",
      "nbconvert_exporter": "python",
      "pygments_lexer": "ipython3",
      "version": "3.8.13"
    }
  },
  "nbformat": 4,
  "nbformat_minor": 0
}