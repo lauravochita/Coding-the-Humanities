{
  "cells": [
    {
      "cell_type": "markdown",
      "metadata": {
        "id": "X8NI2UYxmAxm"
      },
      "source": [
        "# Text: Graded assignment\n",
        "\n",
        "This notebook contains the second graded collaborative assignment of the 2023 Coding the Humanities course, and it is based on the [2. Text](../2_Text.ipynb) course material."
      ]
    },
    {
      "cell_type": "markdown",
      "metadata": {
        "id": "tDox7v6Zydoa"
      },
      "source": [
        "This is a collaborative assignment. In the text cell below, please include all the names of your group members.\n",
        "\n",
        "Below that, answer the question using a mix of code cells and text cells in a way that would make your answers understandable to outsiders. To explain your code, you can use commenting (#) and/or text cells, similar to what you see in the course materials.\n",
        "\n",
        "If you used code or a solution from the internet (such as StackOverflow) or another external resource, please make reference to it (in any format). Unattributed copied code will be considered plagiarism and therefore fraud."
      ]
    },
    {
      "cell_type": "markdown",
      "metadata": {
        "id": "yrkCK50pyv99"
      },
      "source": [
        "**Authors of this answer:**\n",
        "Laura Vochiţa (13982540),\n",
        "Anna Valenti (13530232), Izzie He (13090259), Xi Zeng (13548719)\n"
      ]
    },
    {
      "cell_type": "markdown",
      "metadata": {
        "id": "vHoYErhC0H6l"
      },
      "source": [
        "## Assignment\n",
        "\n",
        "Below, you will find a string containing the winning songs of the Eurovision Song Contest since the year 2012. Answer the following questions using Python code as much as possible:"
      ]
    },
    {
      "cell_type": "code",
      "execution_count": 1,
      "metadata": {
        "id": "y3af0USf0K2A"
      },
      "outputs": [],
      "source": [
        "eurovision_winners = \"\"\"2012: loreen - euphoria (Sweden)\n",
        "2013: emmelie de forest - only teardrops (Denmark)\n",
        "2014: conchita wurst - rise like a phoenix (Austria)\n",
        "2015: mans zelmerlow - heroes (Sweden)\n",
        "2016: jamala - 1944 (Ukraine)\n",
        "2017: salvador sobral - amar pelos dois (Portugal)\n",
        "2018: netta - toy (Israel)\n",
        "2019: duncan laurence - arcade (Netherlands)\n",
        "2021: maneskin - zitti e buoni (Italy)\n",
        "2022: kalush orchestra - stefania (Ukraine)\n",
        "\"\"\""
      ]
    },
    {
      "cell_type": "markdown",
      "metadata": {
        "id": "n45Sjebgb24u"
      },
      "source": [
        "1. Check if the string starts with 2012."
      ]
    },
    {
      "cell_type": "code",
      "execution_count": 2,
      "metadata": {
        "id": "O3kZMmg9b24u",
        "colab": {
          "base_uri": "https://localhost:8080/"
        },
        "outputId": "05de3e30-db9e-4bdb-869e-0bda91e5ac09"
      },
      "outputs": [
        {
          "output_type": "stream",
          "name": "stdout",
          "text": [
            "True\n"
          ]
        }
      ],
      "source": [
        "# we simply use the .startswith() function and print it to get the True/False value\n",
        "print(eurovision_winners.startswith('2012'))"
      ]
    },
    {
      "cell_type": "markdown",
      "metadata": {
        "id": "OgimuB8Kb24u"
      },
      "source": [
        "2. Print this text titlecased (every word starts with a capital letter, ignore the function words for now)."
      ]
    },
    {
      "cell_type": "code",
      "execution_count": 3,
      "metadata": {
        "id": "bZep6vMMb24v",
        "colab": {
          "base_uri": "https://localhost:8080/"
        },
        "outputId": "a6285ec9-af7a-49e0-e046-79c512c8f41d"
      },
      "outputs": [
        {
          "output_type": "stream",
          "name": "stdout",
          "text": [
            "2012: Loreen - Euphoria (Sweden)\n",
            "2013: Emmelie De Forest - Only Teardrops (Denmark)\n",
            "2014: Conchita Wurst - Rise Like A Phoenix (Austria)\n",
            "2015: Mans Zelmerlow - Heroes (Sweden)\n",
            "2016: Jamala - 1944 (Ukraine)\n",
            "2017: Salvador Sobral - Amar Pelos Dois (Portugal)\n",
            "2018: Netta - Toy (Israel)\n",
            "2019: Duncan Laurence - Arcade (Netherlands)\n",
            "2021: Maneskin - Zitti E Buoni (Italy)\n",
            "2022: Kalush Orchestra - Stefania (Ukraine)\n",
            "\n"
          ]
        }
      ],
      "source": [
        "# we use the .title() function so every word will start with a capital letter\n",
        "# we did not use the .capitalise() function because it will only return the first letter of a sentence in capital.\n",
        "\n",
        "print(eurovision_winners.title())"
      ]
    },
    {
      "cell_type": "markdown",
      "metadata": {
        "id": "3P4FBg17b24v"
      },
      "source": [
        "3. How many different songs are listed?"
      ]
    },
    {
      "cell_type": "code",
      "execution_count": 4,
      "metadata": {
        "id": "qtXZO542b24v",
        "colab": {
          "base_uri": "https://localhost:8080/"
        },
        "outputId": "69e0ca52-40d7-4c3c-f867-fe189a6d58dc"
      },
      "outputs": [
        {
          "output_type": "stream",
          "name": "stdout",
          "text": [
            "10\n"
          ]
        }
      ],
      "source": [
        "#import python's built in regex module\n",
        "import re \n",
        "\n",
        "#we use the .findall() function to find the lines number to detect the number of songs\n",
        "  # the expression \"\\s.+\" finds to all occurence starting with a whitespace, and til the end of its line.\n",
        "  # eurovision_winners points to the string we are searching for these occurences in\n",
        "  #the .findall() function returns all the lines in the string therefore the number of the songs\n",
        "#we name this new list \"songs\"\n",
        "songs = re.findall(r\"\\s.+\", eurovision_winners) \n",
        "\n",
        "# now the .findall() function above gave us a list of these occurences (song names with relative countries)\n",
        "# we just have to count the number of items in the entire list named \"songs\" using the len() function\n",
        "print(len(songs))"
      ]
    },
    {
      "cell_type": "markdown",
      "metadata": {
        "id": "p8RJnTkpb24v"
      },
      "source": [
        "4. Convert the string to a list of words. Then, make a string out of the list in which each word is on a new line."
      ]
    },
    {
      "cell_type": "code",
      "source": [
        "#we first create a list by splitting the string(eurovision_winners) with the .split() function\n",
        "#we name the new list \"eurovision_list\"\n",
        "eurovision_list = eurovision_winners.split()  \n",
        "\n",
        "#print() function shows us the new list\n",
        "print(eurovision_list)\n",
        "\n",
        "#now we use the .join() fucntion to turn this list back to a string\n",
        "  #the character we join this list by is \"\\n\", which is a type of escape character that will create a new line when used in print()\n",
        "#we use print() function\n",
        "print(\"\\n\".join(eurovision_list))\n"
      ],
      "metadata": {
        "colab": {
          "base_uri": "https://localhost:8080/"
        },
        "id": "sfl77RmOkhEw",
        "outputId": "6b1bb986-1c97-419e-a4e0-c06e011ce831"
      },
      "execution_count": 5,
      "outputs": [
        {
          "output_type": "stream",
          "name": "stdout",
          "text": [
            "['2012:', 'loreen', '-', 'euphoria', '(Sweden)', '2013:', 'emmelie', 'de', 'forest', '-', 'only', 'teardrops', '(Denmark)', '2014:', 'conchita', 'wurst', '-', 'rise', 'like', 'a', 'phoenix', '(Austria)', '2015:', 'mans', 'zelmerlow', '-', 'heroes', '(Sweden)', '2016:', 'jamala', '-', '1944', '(Ukraine)', '2017:', 'salvador', 'sobral', '-', 'amar', 'pelos', 'dois', '(Portugal)', '2018:', 'netta', '-', 'toy', '(Israel)', '2019:', 'duncan', 'laurence', '-', 'arcade', '(Netherlands)', '2021:', 'maneskin', '-', 'zitti', 'e', 'buoni', '(Italy)', '2022:', 'kalush', 'orchestra', '-', 'stefania', '(Ukraine)']\n",
            "2012:\n",
            "loreen\n",
            "-\n",
            "euphoria\n",
            "(Sweden)\n",
            "2013:\n",
            "emmelie\n",
            "de\n",
            "forest\n",
            "-\n",
            "only\n",
            "teardrops\n",
            "(Denmark)\n",
            "2014:\n",
            "conchita\n",
            "wurst\n",
            "-\n",
            "rise\n",
            "like\n",
            "a\n",
            "phoenix\n",
            "(Austria)\n",
            "2015:\n",
            "mans\n",
            "zelmerlow\n",
            "-\n",
            "heroes\n",
            "(Sweden)\n",
            "2016:\n",
            "jamala\n",
            "-\n",
            "1944\n",
            "(Ukraine)\n",
            "2017:\n",
            "salvador\n",
            "sobral\n",
            "-\n",
            "amar\n",
            "pelos\n",
            "dois\n",
            "(Portugal)\n",
            "2018:\n",
            "netta\n",
            "-\n",
            "toy\n",
            "(Israel)\n",
            "2019:\n",
            "duncan\n",
            "laurence\n",
            "-\n",
            "arcade\n",
            "(Netherlands)\n",
            "2021:\n",
            "maneskin\n",
            "-\n",
            "zitti\n",
            "e\n",
            "buoni\n",
            "(Italy)\n",
            "2022:\n",
            "kalush\n",
            "orchestra\n",
            "-\n",
            "stefania\n",
            "(Ukraine)\n"
          ]
        }
      ]
    },
    {
      "cell_type": "markdown",
      "metadata": {
        "id": "bGYOsbpnb24w"
      },
      "source": [
        "5. One of the song titles is a year (a number). Find its index in the list you made in 4. and replace the string object for the number as integer from the list. You can type the year in your code only to obtain its index. Print the list."
      ]
    },
    {
      "cell_type": "code",
      "execution_count": 6,
      "metadata": {
        "id": "dey43Pi0mAy6",
        "colab": {
          "base_uri": "https://localhost:8080/"
        },
        "outputId": "30763184-d041-4647-980b-49780e81eee7"
      },
      "outputs": [
        {
          "output_type": "stream",
          "name": "stdout",
          "text": [
            "['2012:', 'loreen', '-', 'euphoria', '(Sweden)', '2013:', 'emmelie', 'de', 'forest', '-', 'only', 'teardrops', '(Denmark)', '2014:', 'conchita', 'wurst', '-', 'rise', 'like', 'a', 'phoenix', '(Austria)', '2015:', 'mans', 'zelmerlow', '-', 'heroes', '(Sweden)', '2016:', 'jamala', '-', 1944, '(Ukraine)', '2017:', 'salvador', 'sobral', '-', 'amar', 'pelos', 'dois', '(Portugal)', '2018:', 'netta', '-', 'toy', '(Israel)', '2019:', 'duncan', 'laurence', '-', 'arcade', '(Netherlands)', '2021:', 'maneskin', '-', 'zitti', 'e', 'buoni', '(Italy)', '2022:', 'kalush', 'orchestra', '-', 'stefania', '(Ukraine)']\n"
          ]
        }
      ],
      "source": [
        "#we use the .index() function to find the index of the song named\"1944\" \n",
        "#we name the index a new variable \"song_index\"\n",
        "song_index = eurovision_list.index(\"1944\")\n",
        "\n",
        "#we change the song name from a string to a integer using the int() function\n",
        "  # eurovision_list[song_index] finds the item in the list \"eurovision_list\" with the index of [song_index], which is the new variable from the step above\n",
        "#we give this integer a new variable name \"new_song\"\n",
        "new_song = int(eurovision_list[song_index])\n",
        "\n",
        "#now we replace the old string in the list with the new integer \"new_song\"\n",
        "#we do so via slicing the eurovison_list[]\n",
        "  #[song_index : song_index+1] locates the original item\n",
        "  # = [new_song] replace it with the new integer from the step above\n",
        "eurovision_list[song_index : song_index+1] = [new_song]\n",
        "\n",
        "#finally we use the print() function to show our new list\n",
        "print(eurovision_list)\n"
      ]
    },
    {
      "cell_type": "markdown",
      "metadata": {
        "id": "AXoZNEUJb24w"
      },
      "source": [
        "6. Create a regular expression that returns the names of all the countries that won, and print them, without duplicates. As a reminder, you can use a regex tester website to help you: https://regex101.com/"
      ]
    },
    {
      "cell_type": "code",
      "execution_count": 7,
      "metadata": {
        "id": "wRsUYEsbb24x",
        "colab": {
          "base_uri": "https://localhost:8080/"
        },
        "outputId": "d0783935-2f49-4439-b8f2-c5461b8f5154"
      },
      "outputs": [
        {
          "output_type": "stream",
          "name": "stdout",
          "text": [
            "{'Denmark', 'Israel', 'Portugal', 'Sweden', 'Ukraine', 'Netherlands', 'Italy', 'Austria'}\n"
          ]
        }
      ],
      "source": [
        "#firstly, we use the .findall() function to get a list of all the country names\n",
        "  # the expression '\\((.+)\\)' can be interpreted in two steps:\n",
        "    #'\\(.+\\)' finds any characters between ()\n",
        "      #there's a '\\' in front of both '(' and ')' because they are special characters\n",
        "    # we single out the '.+' by putting () outside of it because we only want to capture the country names without the parentheses\n",
        "#we make this list a new variable named \"countries\"\n",
        "countries = re.findall(r'\\((.+)\\)', eurovision_winners)\n",
        "\n",
        "#now we need to get rid of all the duplicates (items in the 'countries' list that appear more than once)\n",
        "#we do so by turning the list into a set(which only keeps the unique objects), using the set() function\n",
        "#we make this new set a variable named \"winners\"\n",
        "winners = set(countries)\n",
        "\n",
        "#we print the set to show its objects\n",
        "print(winners)"
      ]
    }
  ],
  "metadata": {
    "colab": {
      "provenance": []
    },
    "kernelspec": {
      "display_name": "Python 3 (ipykernel)",
      "language": "python",
      "name": "python3"
    },
    "language_info": {
      "codemirror_mode": {
        "name": "ipython",
        "version": 3
      },
      "file_extension": ".py",
      "mimetype": "text/x-python",
      "name": "python",
      "nbconvert_exporter": "python",
      "pygments_lexer": "ipython3",
      "version": "3.8.13"
    }
  },
  "nbformat": 4,
  "nbformat_minor": 0
}