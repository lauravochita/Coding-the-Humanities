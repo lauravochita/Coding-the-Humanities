{
 "cells": [
  {
   "cell_type": "markdown",
   "metadata": {
    "id": "KV-UrkvK3HBQ"
   },
   "source": [
    "# Files: Graded assignment\n",
    "This notebook contains the third graded collaborative assignment of the 2023 Coding the Humanities course, and it is based on the [4. Reading And Writing Files](../../4_ReadingAndWritingFiles.ipynb) course material."
   ]
  },
  {
   "cell_type": "markdown",
   "metadata": {
    "id": "13WY-Pd4m1Nq"
   },
   "source": [
    "This is a collaborative assignment. In the text cell below, please include all the names of your group members.\n",
    "\n",
    "Below that, answer the question using a mix of code cells and text cells in a way that would make your answers understandable to outsiders. To explain your code, you can use commenting (#) and/or text cells, similar to what you see in the course materials.\n",
    "\n",
    "If you used code or a solution from the internet (such as StackOverflow) or another external resource, please make reference to it (in any format). Unattributed copied code will be considered plagiarism and therefore fraud.\n"
   ]
  },
  {
   "cell_type": "markdown",
   "metadata": {},
   "source": [
    "**Authors of this answer:**"
   ]
  },
  {
   "cell_type": "markdown",
   "metadata": {
    "id": "IVxv8FjzoS_w",
    "tags": []
   },
   "source": [
    "# Assignment\n",
    "\n",
    "In the Data directory, you will find four snippets of texts by the philosopher Willard Quine, on various topics. We will do some file reading (and writing) to analyse these.\n",
    "\n",
    "Please use functions and function documentation where applicable.\n"
   ]
  },
  {
   "cell_type": "markdown",
   "metadata": {},
   "source": [
    "The file *quine_elementarylogic_denial.txt* explains some basics of logic. Usually some empty space is left after logical formulae.\n",
    "\n",
    "1. From the file *quine_elementarylogic_denial.txt*, print only the lines that are not empty."
   ]
  },
  {
   "cell_type": "code",
   "execution_count": null,
   "metadata": {},
   "outputs": [],
   "source": [
    "# Your code here"
   ]
  },
  {
   "cell_type": "markdown",
   "metadata": {},
   "source": [
    "2. For the same file, calculate the percentage of lines that is not empty. To do this, you'll need the total number of lines and the number of non-empty lines."
   ]
  },
  {
   "cell_type": "code",
   "execution_count": null,
   "metadata": {},
   "outputs": [],
   "source": [
    "# Your code here"
   ]
  },
  {
   "cell_type": "markdown",
   "metadata": {},
   "source": [
    "One of the four text files contains paragraph markers in XML format, which enclose a paragraph. They look like this: `<p> </p>`. Find out which file it is (you do not need to use Python code for that). \n",
    "\n",
    "3. Create a version of the text without those markers. We would like it to be in the directory named 'out' to avoid overwriting the original file. You can do this by first reading the text file, using Python to remove the markers from the text, and then writing the text to a new file in the 'out' directory."
   ]
  },
  {
   "cell_type": "code",
   "execution_count": 1,
   "metadata": {
    "id": "8LSmnXOtm5sg"
   },
   "outputs": [],
   "source": [
    "# Your code here"
   ]
  },
  {
   "cell_type": "markdown",
   "metadata": {},
   "source": [
    "4. Create a function that can compute the total number of words in all files in a directory, returning a single number. Apply it to the 'data' directory to get the number of words in all 4 files combined, and print the number. Use the NLTK tokenizer that was shown in this week's notebook for optimal results. For this question, don't worry too much about what exactly is a 'word', but if you can remove punctuation from the count somehow, that is nice."
   ]
  },
  {
   "cell_type": "code",
   "execution_count": null,
   "metadata": {},
   "outputs": [],
   "source": [
    "# Your code here"
   ]
  }
 ],
 "metadata": {
  "colab": {
   "collapsed_sections": [],
   "name": "2-Weekly-Assignment.ipynb",
   "provenance": []
  },
  "kernelspec": {
   "display_name": "Python 3 (ipykernel)",
   "language": "python",
   "name": "python3"
  },
  "language_info": {
   "codemirror_mode": {
    "name": "ipython",
    "version": 3
   },
   "file_extension": ".py",
   "mimetype": "text/x-python",
   "name": "python",
   "nbconvert_exporter": "python",
   "pygments_lexer": "ipython3",
   "version": "3.8.13"
  }
 },
 "nbformat": 4,
 "nbformat_minor": 4
}
