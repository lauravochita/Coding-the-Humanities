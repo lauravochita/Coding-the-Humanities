{
  "nbformat": 4,
  "nbformat_minor": 0,
  "metadata": {
    "colab": {
      "provenance": []
    },
    "kernelspec": {
      "name": "python3",
      "display_name": "Python 3"
    },
    "language_info": {
      "name": "python"
    }
  },
  "cells": [
    {
      "cell_type": "markdown",
      "metadata": {
        "id": "X8NI2UYxmAxm"
      },
      "source": [
        "# Variables: Graded assignment\n",
        "\n",
        "This notebook contains the first graded collaborative assignment of the 2023 Coding the Humanities course, and it is based on the [1. Variables](1_Variables.ipynb) course material."
      ]
    },
    {
      "cell_type": "markdown",
      "source": [
        "This is a collaborative assignment. In the text cell below, please include all the names of your group members.\n",
        "\n",
        "Below that, answer the question using a mix of code cells and text cells in a way that would make your answers understandable to outsiders. To explain your code, you can use commenting (#) and/or text cells, similar to what you see in the course materials. Not all answers require code, some are text questions.\n",
        "\n",
        "If you used code or a solution from the internet (such as StackOverflow) or another external resource, please make reference to it (in any format). Unattributed copied code will be considered plagiarism and therefore fraud."
      ],
      "metadata": {
        "id": "tDox7v6Zydoa"
      }
    },
    {
      "cell_type": "markdown",
      "source": [
        "**Authors of this answer:** Laura Vochiţa (13982540),\n",
        "Anna Valenti (13530232), Izzie He (13090259), Xi Zeng (13548719)"
      ],
      "metadata": {
        "id": "yrkCK50pyv99"
      }
    },
    {
      "cell_type": "markdown",
      "source": [
        "## Assignment\n",
        "\n",
        "Below, you will find a list that contains an exerpt of text from Willard V.A. Quine's book \"Word and Object\" (1960). Each word is an item in the list. However, it is a bit messy as it was scanned from paper.\n",
        "\n",
        "1. Firstly, you see there is a page number in the sentence, but you think it was scanned incorrectly. You think it should be 744 instead of 244, and you try to correct this. Why does the solution below not work?\n",
        "\n",
        "\n"
      ],
      "metadata": {
        "id": "vHoYErhC0H6l"
      }
    },
    {
      "cell_type": "code",
      "source": [
        "rabbit_sentence = [\"Two\", \"pointings\", \"may\", \"be\", \"pointings\", \"to\", \"a\", \"numerically\", \"identical\", \"rabbit\", \",\", \"to\", \"numerically\", \"distinct\", \"rabbit\", \"parts\", \",\"\n",
        "                  , \"and\", \"to\", \"numerically\", \"distinct\", \"rabbit\", \"stages\", \";\", \"the\", \"inscrutability\", \"lies\", \"not\", \"in\", \"resemblance\", \",\", \"but\", \"in\", \"the\", \"anatomy\", \".\"\n",
        "                  , \"Strawson\", \"is\", \"making\", \"this\", \"point\", \"when\", \"he\", \"writes\", \"that\", '\"', \"feature\", \"-\", \"placing\", \"sentences\", \"do\", \"not\", \"introduce\", \"particulars\", \n",
        "                   \"into\", \"our\", \"discourse\", '\"', \"(\", '\"', \"Particular\", \"and\", \"general\", \",\", \"p.\", \"244\", \")\", \".\"]\n",
        "\n",
        "number_index = rabbit_sentence.index(\"244\")\n",
        "rabbit_sentence[number_index] += 500 "
      ],
      "metadata": {
        "id": "y3af0USf0K2A",
        "colab": {
          "base_uri": "https://localhost:8080/",
          "height": 198
        },
        "outputId": "51eed4d1-7569-43fc-e86e-5c39449a6492"
      },
      "execution_count": null,
      "outputs": [
        {
          "output_type": "error",
          "ename": "TypeError",
          "evalue": "ignored",
          "traceback": [
            "\u001b[0;31m---------------------------------------------------------------------------\u001b[0m",
            "\u001b[0;31mTypeError\u001b[0m                                 Traceback (most recent call last)",
            "\u001b[0;32m<ipython-input-1-2df5bab33382>\u001b[0m in \u001b[0;36m<module>\u001b[0;34m\u001b[0m\n\u001b[1;32m      5\u001b[0m \u001b[0;34m\u001b[0m\u001b[0m\n\u001b[1;32m      6\u001b[0m \u001b[0mnumber_index\u001b[0m \u001b[0;34m=\u001b[0m \u001b[0mrabbit_sentence\u001b[0m\u001b[0;34m.\u001b[0m\u001b[0mindex\u001b[0m\u001b[0;34m(\u001b[0m\u001b[0;34m\"244\"\u001b[0m\u001b[0;34m)\u001b[0m\u001b[0;34m\u001b[0m\u001b[0;34m\u001b[0m\u001b[0m\n\u001b[0;32m----> 7\u001b[0;31m \u001b[0mrabbit_sentence\u001b[0m\u001b[0;34m[\u001b[0m\u001b[0mnumber_index\u001b[0m\u001b[0;34m]\u001b[0m \u001b[0;34m+=\u001b[0m \u001b[0;36m500\u001b[0m\u001b[0;34m\u001b[0m\u001b[0;34m\u001b[0m\u001b[0m\n\u001b[0m",
            "\u001b[0;31mTypeError\u001b[0m: can only concatenate str (not \"int\") to str"
          ]
        }
      ]
    },
    {
      "cell_type": "markdown",
      "source": [
        "Your answer here (text cell): \n",
        "\"244\" is a string and not an integer, therefore you cannot add an integer to a string. "
      ],
      "metadata": {
        "id": "GkH7_70Y73uK"
      }
    },
    {
      "cell_type": "markdown",
      "source": [
        "Provide another solution that does let you add 500 to the number in the list. You can refer to the variables from the code block above without having to re-write them."
      ],
      "metadata": {
        "id": "O6vh1FE376VY"
      }
    },
    {
      "cell_type": "code",
      "source": [
        "rabbit_sentence = [\"Two\", \"pointings\", \"may\", \"be\", \"pointings\", \"to\", \"a\", \"numerically\", \"identical\", \"rabbit\", \",\", \"to\", \"numerically\", \"distinct\", \"rabbit\", \"parts\", \",\"\n",
        "                  , \"and\", \"to\", \"numerically\", \"distinct\", \"rabbit\", \"stages\", \";\", \"the\", \"inscrutability\", \"lies\", \"not\", \"in\", \"resemblance\", \",\", \"but\", \"in\", \"the\", \"anatomy\", \".\"\n",
        "                  , \"Strawson\", \"is\", \"making\", \"this\", \"point\", \"when\", \"he\", \"writes\", \"that\", '\"', \"feature\", \"-\", \"placing\", \"sentences\", \"do\", \"not\", \"introduce\", \"particulars\", \n",
        "                   \"into\", \"our\", \"discourse\", '\"', \"(\", '\"', \"Particular\", \"and\", \"general\", \",\", \"p.\", \"244\", \")\", \".\"]\n",
        "number_index = rabbit_sentence.index(\"244\") #look for and store the index position of '244'\n",
        "page = int (rabbit_sentence[number_index]) #transform '244' from string to integer and store the integer in a variable\n",
        "page += 500 #add the right number to that variable \n",
        "page\n",
        "page = str (page) #transform the integer stored in the page variable back to a string\n",
        "rabbit_sentence[number_index : number_index +1] = [page] #replace the string in the index position of '244' with the new string '744'\n",
        "rabbit_sentence \n",
        "\n"
      ],
      "metadata": {
        "id": "ryt58O7F68Fk",
        "colab": {
          "base_uri": "https://localhost:8080/"
        },
        "outputId": "30091a8e-9183-4b3d-c4cb-5d0b78b3dce1"
      },
      "execution_count": null,
      "outputs": [
        {
          "output_type": "execute_result",
          "data": {
            "text/plain": [
              "['Two',\n",
              " 'pointings',\n",
              " 'may',\n",
              " 'be',\n",
              " 'pointings',\n",
              " 'to',\n",
              " 'a',\n",
              " 'numerically',\n",
              " 'identical',\n",
              " 'rabbit',\n",
              " ',',\n",
              " 'to',\n",
              " 'numerically',\n",
              " 'distinct',\n",
              " 'rabbit',\n",
              " 'parts',\n",
              " ',',\n",
              " 'and',\n",
              " 'to',\n",
              " 'numerically',\n",
              " 'distinct',\n",
              " 'rabbit',\n",
              " 'stages',\n",
              " ';',\n",
              " 'the',\n",
              " 'inscrutability',\n",
              " 'lies',\n",
              " 'not',\n",
              " 'in',\n",
              " 'resemblance',\n",
              " ',',\n",
              " 'but',\n",
              " 'in',\n",
              " 'the',\n",
              " 'anatomy',\n",
              " '.',\n",
              " 'Strawson',\n",
              " 'is',\n",
              " 'making',\n",
              " 'this',\n",
              " 'point',\n",
              " 'when',\n",
              " 'he',\n",
              " 'writes',\n",
              " 'that',\n",
              " '\"',\n",
              " 'feature',\n",
              " '-',\n",
              " 'placing',\n",
              " 'sentences',\n",
              " 'do',\n",
              " 'not',\n",
              " 'introduce',\n",
              " 'particulars',\n",
              " 'into',\n",
              " 'our',\n",
              " 'discourse',\n",
              " '\"',\n",
              " '(',\n",
              " '\"',\n",
              " 'Particular',\n",
              " 'and',\n",
              " 'general',\n",
              " ',',\n",
              " 'p.',\n",
              " '744',\n",
              " ')',\n",
              " '.']"
            ]
          },
          "metadata": {},
          "execution_count": 2
        }
      ]
    },
    {
      "cell_type": "markdown",
      "source": [
        "2. Next, you want to check whether the word \"particular\" occurs in this list. How would you check that with Python code? Do you agree with the answer?"
      ],
      "metadata": {
        "id": "m1G-l82e8MQz"
      }
    },
    {
      "cell_type": "code",
      "source": [
        "'particular'in rabbit_sentence #checking with boolean truth values (the in function)"
      ],
      "metadata": {
        "id": "nF0Hk4aF9pJ5",
        "colab": {
          "base_uri": "https://localhost:8080/"
        },
        "outputId": "69266e15-5889-4a2d-cf47-facee3f2e3e5"
      },
      "execution_count": null,
      "outputs": [
        {
          "output_type": "execute_result",
          "data": {
            "text/plain": [
              "False"
            ]
          },
          "metadata": {},
          "execution_count": 3
        }
      ]
    },
    {
      "cell_type": "markdown",
      "source": [
        "We agree with the answer because there is no 'particular' item in the list. The items 'particulars', 'Particular', which you can find in the list, are different items from the searched one. "
      ],
      "metadata": {
        "id": "P25Ws1opsu8W"
      }
    },
    {
      "cell_type": "markdown",
      "source": [
        "3. Now you want to know how often the word rabbit is actually used in this sentence. Check it with Python code."
      ],
      "metadata": {
        "id": "kP_g4EDV9vfh"
      }
    },
    {
      "cell_type": "code",
      "source": [
        "rabbit_sentence.count('rabbit') #count function counts how many times an item appears in the list \n"
      ],
      "metadata": {
        "id": "B8uJbDKu945S",
        "colab": {
          "base_uri": "https://localhost:8080/"
        },
        "outputId": "17f605e7-e2ca-4a17-e3ca-8bf691de9501"
      },
      "execution_count": null,
      "outputs": [
        {
          "output_type": "execute_result",
          "data": {
            "text/plain": [
              "3"
            ]
          },
          "metadata": {},
          "execution_count": 4
        }
      ]
    },
    {
      "cell_type": "markdown",
      "source": [
        "4. The list actually contains two sentences, not one. Can you make a new variable containing only the first sentence from the rabbit_sentence variable above? Try to write a solution that does not include any specific number."
      ],
      "metadata": {
        "id": "uV6PvNfD8rCP"
      }
    },
    {
      "cell_type": "code",
      "source": [
        "period_position= rabbit_sentence.index (\".\") #look for index position of \".\" --> where the first sentence ends, and store it in a variable\n",
        "first_rabbit_sentence = rabbit_sentence[: period_position+1] #slice the original list from first item to the \".\", including it and create new list\n",
        "print(first_rabbit_sentence) #print the new list\n",
        "second_rabbit_sentence = rabbit_sentence [period_position +1 : ] #slice from the \".\" (excluding) till the end of the list and create a second new list\n",
        "print (second_rabbit_sentence) #print the second new list "
      ],
      "metadata": {
        "id": "ancg7DZ_9Hs4",
        "colab": {
          "base_uri": "https://localhost:8080/"
        },
        "outputId": "091f1590-ae68-47fd-feb0-6eba376b68f8"
      },
      "execution_count": null,
      "outputs": [
        {
          "output_type": "stream",
          "name": "stdout",
          "text": [
            "['Two', 'pointings', 'may', 'be', 'pointings', 'to', 'a', 'numerically', 'identical', 'rabbit', ',', 'to', 'numerically', 'distinct', 'rabbit', 'parts', ',', 'and', 'to', 'numerically', 'distinct', 'rabbit', 'stages', ';', 'the', 'inscrutability', 'lies', 'not', 'in', 'resemblance', ',', 'but', 'in', 'the', 'anatomy', '.']\n",
            "['Strawson', 'is', 'making', 'this', 'point', 'when', 'he', 'writes', 'that', '\"', 'feature', '-', 'placing', 'sentences', 'do', 'not', 'introduce', 'particulars', 'into', 'our', 'discourse', '\"', '(', '\"', 'Particular', 'and', 'general', ',', 'p.', '744', ')', '.']\n"
          ]
        }
      ]
    },
    {
      "cell_type": "markdown",
      "source": [
        "5. Lastly, a tricky one. You want to remove the punctuation from the rabbit_sentence. So, you want to remove ',' and ';' and '.' and '(' and ')' and '\"' and '-' from the list. However, you also want to preserve the original, and have both the one with punctuation and the one without. Can you do this? Print both lists, *as well as their length* to show that they are different."
      ],
      "metadata": {
        "id": "7UP55vJF-GBi"
      }
    },
    {
      "cell_type": "markdown",
      "source": [
        "The first solution is what we came up with ourselves. We searched online for ways to delete an item from a list and we found the remove function, however it only works with the first occurence of that item and you cannot use it for multiple items at once. Some of us already knew about the 'while' loop. Thhis solved our problem, as the code keeps removing the item until it's no longer in the list. We had to write separate while loops for each item we wanted to remove. Because of these limitations, the code isn't very efficient and looks quite redundant, but it does work and it is the option we thought of by ourselves (except for looking for the remove function). "
      ],
      "metadata": {
        "id": "Pd27ZmFoqnwV"
      }
    },
    {
      "cell_type": "code",
      "source": [
        "clean_rabbit_sentence= rabbit_sentence.copy() #copy the original list to a new one so it doesn't get modified\n",
        "while 'and' in clean_rabbit_sentence: #while the item 'and' is in the list (it creates a loop during wich the function is executed)\n",
        "  clean_rabbit_sentence.remove('and') #remove that item, because of the while loop it keeps removing it until it's not in the list anymore, instead of removing just the first occurence\n",
        "while ',' in clean_rabbit_sentence: #repeat the same while-remove loop for each item that needs to be removed \n",
        "  clean_rabbit_sentence.remove(',')\n",
        "while ';' in clean_rabbit_sentence:\n",
        "  clean_rabbit_sentence.remove(';')\n",
        "while '-' in clean_rabbit_sentence:\n",
        "  clean_rabbit_sentence.remove('-')\n",
        "while '.' in clean_rabbit_sentence:\n",
        "  clean_rabbit_sentence.remove('.')\n",
        "while '\"' in clean_rabbit_sentence:\n",
        "  clean_rabbit_sentence.remove('\"')\n",
        "print(rabbit_sentence) #print the original list\n",
        "print(len(rabbit_sentence)) #print the length of the original list\n",
        "print(clean_rabbit_sentence) #print modified list\n",
        "print(len(clean_rabbit_sentence)) #print length of the modified list "
      ],
      "metadata": {
        "id": "Lx1X1Tr__Z5W",
        "colab": {
          "base_uri": "https://localhost:8080/"
        },
        "outputId": "09e0a5c9-e71c-444f-fbda-eb6befcae70a"
      },
      "execution_count": null,
      "outputs": [
        {
          "output_type": "stream",
          "name": "stdout",
          "text": [
            "['Two', 'pointings', 'may', 'be', 'pointings', 'to', 'a', 'numerically', 'identical', 'rabbit', ',', 'to', 'numerically', 'distinct', 'rabbit', 'parts', ',', 'and', 'to', 'numerically', 'distinct', 'rabbit', 'stages', ';', 'the', 'inscrutability', 'lies', 'not', 'in', 'resemblance', ',', 'but', 'in', 'the', 'anatomy', '.', 'Strawson', 'is', 'making', 'this', 'point', 'when', 'he', 'writes', 'that', '\"', 'feature', '-', 'placing', 'sentences', 'do', 'not', 'introduce', 'particulars', 'into', 'our', 'discourse', '\"', '(', '\"', 'Particular', 'and', 'general', ',', 'p.', '744', ')', '.']\n",
            "68\n",
            "['Two', 'pointings', 'may', 'be', 'pointings', 'to', 'a', 'numerically', 'identical', 'rabbit', 'to', 'numerically', 'distinct', 'rabbit', 'parts', 'to', 'numerically', 'distinct', 'rabbit', 'stages', 'the', 'inscrutability', 'lies', 'not', 'in', 'resemblance', 'but', 'in', 'the', 'anatomy', 'Strawson', 'is', 'making', 'this', 'point', 'when', 'he', 'writes', 'that', 'feature', 'placing', 'sentences', 'do', 'not', 'introduce', 'particulars', 'into', 'our', 'discourse', '(', 'Particular', 'general', 'p.', '744', ')']\n",
            "55\n"
          ]
        }
      ]
    },
    {
      "cell_type": "code",
      "source": [
        "punctuation = ',;().\"-'\n",
        "for p in punctuation:\n",
        "    new_rabbit_sentence = new_rabbit_sentence.replace(p, \"\")\n",
        "new_rabbit_sentence\n",
        "rabbit_sentence\n",
        "print(len(rabbit_sentence))\n",
        "print(len(new_rabbit_sentence))"
      ],
      "metadata": {
        "id": "erZ3pEdlBkZU",
        "colab": {
          "base_uri": "https://localhost:8080/",
          "height": 232
        },
        "outputId": "20397d97-feff-4852-b474-9b449eabc6f0"
      },
      "execution_count": null,
      "outputs": [
        {
          "output_type": "error",
          "ename": "NameError",
          "evalue": "ignored",
          "traceback": [
            "\u001b[0;31m---------------------------------------------------------------------------\u001b[0m",
            "\u001b[0;31mNameError\u001b[0m                                 Traceback (most recent call last)",
            "\u001b[0;32m<ipython-input-7-e3ffa2d7564f>\u001b[0m in \u001b[0;36m<module>\u001b[0;34m\u001b[0m\n\u001b[1;32m      1\u001b[0m \u001b[0mpunctuation\u001b[0m \u001b[0;34m=\u001b[0m \u001b[0;34m',;().\"-'\u001b[0m\u001b[0;34m\u001b[0m\u001b[0;34m\u001b[0m\u001b[0m\n\u001b[1;32m      2\u001b[0m \u001b[0;32mfor\u001b[0m \u001b[0mp\u001b[0m \u001b[0;32min\u001b[0m \u001b[0mpunctuation\u001b[0m\u001b[0;34m:\u001b[0m\u001b[0;34m\u001b[0m\u001b[0;34m\u001b[0m\u001b[0m\n\u001b[0;32m----> 3\u001b[0;31m     \u001b[0mnew_rabbit_sentence\u001b[0m \u001b[0;34m=\u001b[0m \u001b[0mnew_rabbit_sentence\u001b[0m\u001b[0;34m.\u001b[0m\u001b[0mreplace\u001b[0m\u001b[0;34m(\u001b[0m\u001b[0mp\u001b[0m\u001b[0;34m,\u001b[0m \u001b[0;34m\"\"\u001b[0m\u001b[0;34m)\u001b[0m\u001b[0;34m\u001b[0m\u001b[0;34m\u001b[0m\u001b[0m\n\u001b[0m\u001b[1;32m      4\u001b[0m \u001b[0mnew_rabbit_sentence\u001b[0m\u001b[0;34m\u001b[0m\u001b[0;34m\u001b[0m\u001b[0m\n\u001b[1;32m      5\u001b[0m \u001b[0mrabbit_sentence\u001b[0m\u001b[0;34m\u001b[0m\u001b[0;34m\u001b[0m\u001b[0m\n",
            "\u001b[0;31mNameError\u001b[0m: name 'new_rabbit_sentence' is not defined"
          ]
        }
      ]
    }
  ]
}